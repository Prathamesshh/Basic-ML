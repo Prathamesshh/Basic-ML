{
 "cells": [
  {
   "cell_type": "markdown",
   "id": "7459c8bd",
   "metadata": {},
   "source": [
    "### Memory Management\n",
    "\n",
    "Memory management is the process of controlling and coordinating computer memory, including assigning portions of memory to various running programs to optimize overall system performance. It ensures that:\n",
    "\n",
    "1. **Efficient Allocation**: Memory is allocated to processes and deallocated when no longer needed.\n",
    "2. **Avoiding Fragmentation**: Prevents memory fragmentation by organizing memory usage effectively.\n",
    "3. **Protection**: Ensures that one process does not interfere with the memory of another.\n",
    "4. **Virtual Memory**: Provides an abstraction of physical memory, allowing programs to use more memory than physically available.\n",
    "5. **Garbage Collection**: Automatically reclaims memory that is no longer in use (common in languages like Python and Java).\n",
    "\n",
    "Memory management is crucial for ensuring the stability and efficiency of a computer system."
   ]
  },
  {
   "cell_type": "code",
   "execution_count": 2,
   "id": "79e10d9c",
   "metadata": {},
   "outputs": [],
   "source": [
    "### Garbage Collection in Python\n",
    "# Python uses a built-in garbage collector to manage memory automatically.\n",
    "# It helps to reclaim memory that is no longer in use, preventing memory leaks."
   ]
  },
  {
   "cell_type": "code",
   "execution_count": 3,
   "id": "4c4283fa",
   "metadata": {},
   "outputs": [],
   "source": [
    "import gc\n",
    "#enable garbage collection\n",
    "gc.enable()\n"
   ]
  },
  {
   "cell_type": "code",
   "execution_count": 4,
   "id": "309848aa",
   "metadata": {},
   "outputs": [
    {
     "data": {
      "text/plain": [
       "237"
      ]
     },
     "execution_count": 4,
     "metadata": {},
     "output_type": "execute_result"
    }
   ],
   "source": [
    "gc.collect()  # Manually trigger garbage collection"
   ]
  },
  {
   "cell_type": "code",
   "execution_count": 5,
   "id": "fea099ee",
   "metadata": {},
   "outputs": [
    {
     "name": "stdout",
     "output_type": "stream",
     "text": [
      "[{'collections': 222, 'collected': 1474, 'uncollectable': 0}, {'collections': 20, 'collected': 112, 'uncollectable': 0}, {'collections': 2, 'collected': 237, 'uncollectable': 0}]\n"
     ]
    }
   ],
   "source": [
    "print(gc.get_stats())  # Get statistics about the garbage collector"
   ]
  },
  {
   "cell_type": "code",
   "execution_count": 6,
   "id": "c607f9b0",
   "metadata": {},
   "outputs": [
    {
     "name": "stdout",
     "output_type": "stream",
     "text": [
      "[]\n"
     ]
    }
   ],
   "source": [
    "#get unreachable objects\n",
    "unreachable_objects = gc.garbage\n",
    "print(unreachable_objects)  # Print unreachable objects"
   ]
  },
  {
   "cell_type": "code",
   "execution_count": 8,
   "id": "dcfb8d9f",
   "metadata": {},
   "outputs": [
    {
     "name": "stdout",
     "output_type": "stream",
     "text": [
      "0\n",
      "1\n",
      "2\n",
      "3\n",
      "4\n",
      "5\n",
      "6\n",
      "7\n",
      "8\n",
      "9\n",
      "10\n"
     ]
    }
   ],
   "source": [
    "#Generators for memory management\n",
    "def generate_numbers(n):\n",
    "    for i in range(n):\n",
    "        yield i\n",
    "\n",
    "for num in generate_numbers(10000):\n",
    "    if num > 10:\n",
    "        break\n",
    "    print(num)"
   ]
  },
  {
   "cell_type": "code",
   "execution_count": null,
   "id": "30e486be",
   "metadata": {},
   "outputs": [],
   "source": []
  }
 ],
 "metadata": {
  "kernelspec": {
   "display_name": "Python 3",
   "language": "python",
   "name": "python3"
  },
  "language_info": {
   "codemirror_mode": {
    "name": "ipython",
    "version": 3
   },
   "file_extension": ".py",
   "mimetype": "text/x-python",
   "name": "python",
   "nbconvert_exporter": "python",
   "pygments_lexer": "ipython3",
   "version": "3.12.2"
  }
 },
 "nbformat": 4,
 "nbformat_minor": 5
}
