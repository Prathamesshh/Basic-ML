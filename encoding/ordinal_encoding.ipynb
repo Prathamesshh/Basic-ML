{
 "cells": [
  {
   "cell_type": "markdown",
   "id": "b4520efc",
   "metadata": {},
   "source": [
    "Here , each category is assigned a numerical value based on its postion in the order."
   ]
  },
  {
   "cell_type": "code",
   "execution_count": 3,
   "id": "b67fdeec",
   "metadata": {},
   "outputs": [],
   "source": [
    "from sklearn.preprocessing import OrdinalEncoder\n",
    "import pandas as pd"
   ]
  },
  {
   "cell_type": "code",
   "execution_count": 7,
   "id": "80093f25",
   "metadata": {},
   "outputs": [],
   "source": [
    "df = pd.DataFrame({\n",
    "    \"size\": [\"Small\", \"Medium\", \"Large\", \"X-Large\", \"XX-Large\",\"Large\", \"Medium\", \"Small\"],\n",
    "})\n",
    "\n",
    "encoder = OrdinalEncoder(categories=[[\"Small\", \"Medium\", \"Large\", \"X-Large\", \"XX-Large\"]])"
   ]
  },
  {
   "cell_type": "code",
   "execution_count": 8,
   "id": "4fcf3694",
   "metadata": {},
   "outputs": [
    {
     "data": {
      "text/plain": [
       "array([[0.],\n",
       "       [1.],\n",
       "       [2.],\n",
       "       [3.],\n",
       "       [4.],\n",
       "       [2.],\n",
       "       [1.],\n",
       "       [0.]])"
      ]
     },
     "execution_count": 8,
     "metadata": {},
     "output_type": "execute_result"
    }
   ],
   "source": [
    "encoder.fit_transform(df[[\"size\"]])"
   ]
  },
  {
   "cell_type": "code",
   "execution_count": null,
   "id": "d0fb1c65",
   "metadata": {},
   "outputs": [],
   "source": []
  }
 ],
 "metadata": {
  "kernelspec": {
   "display_name": "Python 3",
   "language": "python",
   "name": "python3"
  },
  "language_info": {
   "codemirror_mode": {
    "name": "ipython",
    "version": 3
   },
   "file_extension": ".py",
   "mimetype": "text/x-python",
   "name": "python",
   "nbconvert_exporter": "python",
   "pygments_lexer": "ipython3",
   "version": "3.12.2"
  }
 },
 "nbformat": 4,
 "nbformat_minor": 5
}
