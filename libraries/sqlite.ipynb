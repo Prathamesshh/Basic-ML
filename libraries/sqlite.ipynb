{
 "cells": [
  {
   "cell_type": "markdown",
   "id": "eaa5b042",
   "metadata": {},
   "source": [
    "SQLite is a lightweight, self-contained, serverless, and zero-configuration relational database management system. It is widely used for embedded database systems and is implemented as a C library. SQLite stores the entire database in a single file on disk, making it easy to use and portable.\n",
    "\n",
    "Key features of SQLite:\n",
    "- **Serverless**: No need for a separate server process; the database is directly accessed from the application.\n",
    "- **Zero Configuration**: No setup or administration is required.\n",
    "- **Lightweight**: Small footprint and efficient.\n",
    "- **Cross-Platform**: Works on multiple operating systems.\n",
    "- **ACID-Compliant**: Ensures data integrity through atomicity, consistency, isolation, and durability.\n",
    "\n",
    "SQLite is commonly used in mobile applications, embedded systems, and small-scale projects where a full-fledged database server is unnecessary."
   ]
  },
  {
   "cell_type": "code",
   "execution_count": 1,
   "id": "4de27116",
   "metadata": {},
   "outputs": [],
   "source": [
    "import sqlite3"
   ]
  },
  {
   "cell_type": "code",
   "execution_count": 2,
   "id": "98f647be",
   "metadata": {},
   "outputs": [
    {
     "data": {
      "text/plain": [
       "<sqlite3.Connection at 0x1cb51640d60>"
      ]
     },
     "execution_count": 2,
     "metadata": {},
     "output_type": "execute_result"
    }
   ],
   "source": [
    "# connect to the SQLite database\n",
    "conn = sqlite3.connect('example.db')\n",
    "conn"
   ]
  },
  {
   "cell_type": "code",
   "execution_count": 3,
   "id": "973e3585",
   "metadata": {},
   "outputs": [],
   "source": [
    "cursor = conn.cursor()\n",
    "# create a table\n",
    "cursor.execute('''\n",
    "CREATE TABLE IF NOT EXISTS users (\n",
    "    id INTEGER PRIMARY KEY,\n",
    "    name TEXT NOT NULL,\n",
    "    age INTEGER NOT NULL\n",
    ")\n",
    "''')\n",
    "\n",
    "#commit the changes\n",
    "conn.commit()"
   ]
  },
  {
   "cell_type": "code",
   "execution_count": 6,
   "id": "15117937",
   "metadata": {},
   "outputs": [],
   "source": [
    "cursor.execute('''\n",
    "INSERT INTO users (name, age) VALUES\n",
    "('Alice', 30),\n",
    "('Bob', 25),\n",
    "('Charlie', 35)\n",
    "''')\n",
    "\n",
    "# commit the changes\n",
    "conn.commit()"
   ]
  },
  {
   "cell_type": "code",
   "execution_count": 8,
   "id": "30c0b7e0",
   "metadata": {},
   "outputs": [
    {
     "name": "stdout",
     "output_type": "stream",
     "text": [
      "(1, 'Alice', 30)\n",
      "(2, 'Bob', 25)\n",
      "(3, 'Charlie', 35)\n"
     ]
    }
   ],
   "source": [
    "cursor.execute('''\n",
    "SELECT * FROM users\n",
    "''')\n",
    "rows = cursor.fetchall()\n",
    "for row in rows:\n",
    "    print(row)"
   ]
  },
  {
   "cell_type": "code",
   "execution_count": 11,
   "id": "8147ad4e",
   "metadata": {},
   "outputs": [
    {
     "name": "stdout",
     "output_type": "stream",
     "text": [
      "(1, 'Alice', 31)\n",
      "(2, 'Bob', 25)\n",
      "(3, 'Charlie', 35)\n"
     ]
    }
   ],
   "source": [
    "#update a record\n",
    "cursor.execute('''\n",
    "               UPDATE users\n",
    "               SET age = 31\n",
    "               WHERE name = 'Alice'\n",
    "               ''')\n",
    "\n",
    "# commit the changes\n",
    "conn.commit()\n",
    "\n",
    "for row in cursor.execute('SELECT * FROM users'):\n",
    "    print(row)"
   ]
  },
  {
   "cell_type": "code",
   "execution_count": 13,
   "id": "56f73eaf",
   "metadata": {},
   "outputs": [
    {
     "name": "stdout",
     "output_type": "stream",
     "text": [
      "(1, 'Alice', 31)\n",
      "(3, 'Charlie', 35)\n"
     ]
    }
   ],
   "source": [
    "#delete a record\n",
    "cursor.execute('''\n",
    "               DELETE FROM users\n",
    "               WHERE name = 'Bob'\n",
    "               ''')\n",
    "# commit the changes\n",
    "conn.commit()\n",
    "\n",
    "for row in cursor.execute('select * from users'):\n",
    "    print(row)"
   ]
  },
  {
   "cell_type": "code",
   "execution_count": null,
   "id": "38c23f62",
   "metadata": {},
   "outputs": [],
   "source": []
  }
 ],
 "metadata": {
  "kernelspec": {
   "display_name": "Python 3",
   "language": "python",
   "name": "python3"
  },
  "language_info": {
   "codemirror_mode": {
    "name": "ipython",
    "version": 3
   },
   "file_extension": ".py",
   "mimetype": "text/x-python",
   "name": "python",
   "nbconvert_exporter": "python",
   "pygments_lexer": "ipython3",
   "version": "3.12.2"
  }
 },
 "nbformat": 4,
 "nbformat_minor": 5
}
