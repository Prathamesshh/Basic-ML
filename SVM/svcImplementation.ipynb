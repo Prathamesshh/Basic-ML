{
 "cells": [
  {
   "cell_type": "markdown",
   "id": "ecb4828c",
   "metadata": {},
   "source": [
    "### Support Vector Classifier Implementation"
   ]
  },
  {
   "cell_type": "markdown",
   "id": "376a3b2c",
   "metadata": {},
   "source": []
  }
 ],
 "metadata": {
  "language_info": {
   "name": "python"
  }
 },
 "nbformat": 4,
 "nbformat_minor": 5
}
