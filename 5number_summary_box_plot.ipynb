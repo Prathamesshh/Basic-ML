{
 "cells": [
  {
   "cell_type": "code",
   "execution_count": 1,
   "id": "c3565d18",
   "metadata": {},
   "outputs": [],
   "source": [
    "## Minimum , q1 , median , q3 , maximum\n"
   ]
  },
  {
   "cell_type": "code",
   "execution_count": 2,
   "id": "c8ac8d5d",
   "metadata": {},
   "outputs": [],
   "source": [
    "import numpy as np\n"
   ]
  },
  {
   "cell_type": "code",
   "execution_count": 3,
   "id": "adaec3b1",
   "metadata": {},
   "outputs": [],
   "source": [
    "lst_marks = [ 45 , 32 , 67 , 89 , 23 , 56 , 78 , 90 , 12 , 34 , 99 , 67]\n",
    "minimum,Q1 , median , Q3 , maximum = np.quantile(lst_marks, [0, 0.25, 0.5, 0.75, 1])"
   ]
  },
  {
   "cell_type": "code",
   "execution_count": 4,
   "id": "5f1078e4",
   "metadata": {},
   "outputs": [
    {
     "data": {
      "text/plain": [
       "(np.float64(12.0),\n",
       " np.float64(33.5),\n",
       " np.float64(61.5),\n",
       " np.float64(80.75),\n",
       " np.float64(99.0))"
      ]
     },
     "execution_count": 4,
     "metadata": {},
     "output_type": "execute_result"
    }
   ],
   "source": [
    "minimum , Q1 , median , Q3 , maximum"
   ]
  },
  {
   "cell_type": "code",
   "execution_count": null,
   "id": "927a7cd3",
   "metadata": {},
   "outputs": [],
   "source": [
    "Iqr = Q3 - Q1"
   ]
  }
 ],
 "metadata": {
  "kernelspec": {
   "display_name": "Python 3",
   "language": "python",
   "name": "python3"
  },
  "language_info": {
   "codemirror_mode": {
    "name": "ipython",
    "version": 3
   },
   "file_extension": ".py",
   "mimetype": "text/x-python",
   "name": "python",
   "nbconvert_exporter": "python",
   "pygments_lexer": "ipython3",
   "version": "3.12.2"
  }
 },
 "nbformat": 4,
 "nbformat_minor": 5
}
