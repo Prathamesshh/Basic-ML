{
 "cells": [
  {
   "cell_type": "code",
   "execution_count": 7,
   "id": "06a8758b",
   "metadata": {},
   "outputs": [],
   "source": [
    "import logging\n",
    "\n",
    "logger1=logging.getLogger('logger1')\n",
    "logger1.setLevel(logging.DEBUG)\n",
    "\n",
    "logger2=logging.getLogger('logger2')\n",
    "logger2.setLevel(logging.WARNING)\n",
    "\n",
    "logging.basicConfig(\n",
    "    level=logging.DEBUG,\n",
    "    format='%(asctime)s %(name)s %(levelname)s %(message)s',\n",
    "    datefmt='%Y-%m-%d %H:%M:%S'\n",
    ")"
   ]
  },
  {
   "cell_type": "code",
   "execution_count": 8,
   "id": "7602a948",
   "metadata": {},
   "outputs": [
    {
     "name": "stderr",
     "output_type": "stream",
     "text": [
      "2025-05-14 14:01:57 logger1 DEBUG This is a debug message from logger1\n",
      "2025-05-14 14:01:57 logger2 WARNING This is a warning message from logger2\n"
     ]
    }
   ],
   "source": [
    "logger1.debug(\"This is a debug message from logger1\")\n",
    "logger2.warning(\"This is a warning message from logger2\")"
   ]
  },
  {
   "cell_type": "code",
   "execution_count": null,
   "id": "a5ccd378",
   "metadata": {},
   "outputs": [],
   "source": []
  }
 ],
 "metadata": {
  "kernelspec": {
   "display_name": "Python 3",
   "language": "python",
   "name": "python3"
  },
  "language_info": {
   "codemirror_mode": {
    "name": "ipython",
    "version": 3
   },
   "file_extension": ".py",
   "mimetype": "text/x-python",
   "name": "python",
   "nbconvert_exporter": "python",
   "pygments_lexer": "ipython3",
   "version": "3.12.2"
  }
 },
 "nbformat": 4,
 "nbformat_minor": 5
}
